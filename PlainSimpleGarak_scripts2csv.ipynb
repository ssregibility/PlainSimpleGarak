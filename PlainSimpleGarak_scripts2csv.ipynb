{
  "nbformat": 4,
  "nbformat_minor": 0,
  "metadata": {
    "colab": {
      "name": "PlainSimpleGarak_scripts2csv.ipynb",
      "provenance": [],
      "collapsed_sections": []
    },
    "kernelspec": {
      "name": "python3",
      "display_name": "Python 3"
    }
  },
  "cells": [
    {
      "cell_type": "code",
      "metadata": {
        "colab": {
          "base_uri": "https://localhost:8080/"
        },
        "id": "nf8aQZi6PSQN",
        "outputId": "0ee99c40-fdac-4695-c9df-ab3fcb300009"
      },
      "source": [
        "from google.colab import drive\r\n",
        "drive.mount(\"/content/drive\")\r\n",
        "HOME = 'drive/MyDrive'"
      ],
      "execution_count": null,
      "outputs": [
        {
          "output_type": "stream",
          "text": [
            "Drive already mounted at /content/drive; to attempt to forcibly remount, call drive.mount(\"/content/drive\", force_remount=True).\n"
          ],
          "name": "stdout"
        }
      ]
    },
    {
      "cell_type": "code",
      "metadata": {
        "colab": {
          "base_uri": "https://localhost:8080/"
        },
        "id": "Vdlh6T8lPcTF",
        "outputId": "2d1a5fd7-af10-4eac-8246-283287474438"
      },
      "source": [
        "import torch\r\n",
        "import torch.nn as nn\r\n",
        "import torch.optim as optim\r\n",
        "from torch.utils.data import DataLoader\r\n",
        "\r\n",
        "import nltk\r\n",
        "nltk.download('punkt')\r\n",
        "import random\r\n",
        "import pandas as pd\r\n",
        "import numpy as np\r\n",
        "import os"
      ],
      "execution_count": null,
      "outputs": [
        {
          "output_type": "stream",
          "text": [
            "[nltk_data] Downloading package punkt to /root/nltk_data...\n",
            "[nltk_data]   Package punkt is already up-to-date!\n"
          ],
          "name": "stdout"
        }
      ]
    },
    {
      "cell_type": "code",
      "metadata": {
        "id": "bg9czSkQPceG"
      },
      "source": [
        "import os\r\n",
        "\r\n",
        "df_ds9 = pd.DataFrame()\r\n",
        "\r\n",
        "for filename in os.listdir(\"drive/MyDrive/Data/scripts_ds9\"):\r\n",
        "  with open(os.path.join(\"drive/MyDrive/Data/scripts_ds9\", filename), 'r') as f: # open in readonly mode\r\n",
        "    lines = []\r\n",
        "\r\n",
        "    for line in f:\r\n",
        "      lines.append(line)\r\n",
        "\r\n",
        "    season = int(filename[1:3])\r\n",
        "    ep_num = int(filename[4:6])\r\n",
        "    ep_name = lines[0][:-1]\r\n",
        "\r\n",
        "    del lines[0:3]\r\n",
        "\r\n",
        "    df_temp = pd.DataFrame(lines,columns =['Line'])\r\n",
        "    df_temp['Episode Name'] = ep_name\r\n",
        "    df_temp['Season'] = season\r\n",
        "    df_temp['Episode Number'] = ep_num\r\n",
        "\r\n",
        "    #.append is not inplace!\r\n",
        "    df_ds9 = df_ds9.append(df_temp, ignore_index=True)\r\n",
        "\r\n",
        "df_ds9['Line'] = df_ds9['Line'].str.replace(r\"\\(.*\\)\",\"\")\r\n",
        "df_ds9['Line'] = df_ds9['Line'].str.replace(r\"\\[.*\\]\",\"\")\r\n",
        "df_ds9['Line'] = df_ds9['Line'].str.replace(r\"\\{.*\\}\",\"\")\r\n",
        "df_ds9['Line'] = df_ds9['Line'].str.replace(r\"\\{.*\\]\",\"\")\r\n",
        "df_ds9['Line'] = df_ds9['Line'].str.replace(r\"\\[.*\\}\",\" \")\r\n",
        "df_ds9['Line'] = df_ds9['Line'].str.replace(\"\\n\",\"\")\r\n",
        "\r\n",
        "df_ds9[ 'SpeechFlag' ] =  df_ds9['Line'].str.contains(\":\")\r\n",
        "\r\n",
        "df_ds9['Character'] = df_ds9['Line'][df_ds9['SpeechFlag'] == True].str.split(':', expand=True)[0]\r\n",
        "df_ds9['Speech'] = df_ds9['Line'][df_ds9['SpeechFlag'] == True].str.split(':', expand=True)[1]\r\n",
        "\r\n",
        "df_ds9 = df_ds9[df_ds9['SpeechFlag']==True]\r\n",
        "\r\n",
        "del df_ds9['Line']\r\n",
        "del df_ds9['SpeechFlag']"
      ],
      "execution_count": 193,
      "outputs": []
    },
    {
      "cell_type": "code",
      "metadata": {
        "colab": {
          "base_uri": "https://localhost:8080/"
        },
        "id": "yb8wBZ6LPck4",
        "outputId": "47e9a5e8-0b8c-46d0-887d-e19c2382e37e"
      },
      "source": [
        "for x in df_ds9['Character'].unique():\r\n",
        "  if \"{\" in x or \"(\" in x or \"[\" in x or \"}\" in x or \")\" in x or \"]\" in x:\r\n",
        "    print(x)"
      ],
      "execution_count": 194,
      "outputs": [
        {
          "output_type": "stream",
          "text": [
            "DAX [OC\n",
            "PEL [OC\n",
            "(SISKO\n",
            ") CAPTAIN\n",
            "JAKE [on monitor\n",
            "(BASHIR\n",
            "QUARK [on viewscreen\n",
            "DAMAR [on viewscreen\n"
          ],
          "name": "stdout"
        }
      ]
    },
    {
      "cell_type": "code",
      "metadata": {
        "id": "bIwPrfLzoYXn"
      },
      "source": [
        "df_ds9['Character'] = df_ds9['Character'].replace(to_replace =\"DAX [OC\",  value =\"DAX\")\r\n",
        "df_ds9['Character'] = df_ds9['Character'].replace(to_replace =\"PEL [OC\",  value =\"PEL\")\r\n",
        "df_ds9['Character'] = df_ds9['Character'].replace(to_replace =\"(SISKO\",  value =\"SISKO\")\r\n",
        "df_ds9['Character'] = df_ds9['Character'].replace(to_replace =\") CAPTAIN\",  value =\"CAPTAIN\")\r\n",
        "df_ds9['Character'] = df_ds9['Character'].replace(to_replace =\"JAKE [on monitor\",  value =\"JAKE\")\r\n",
        "df_ds9['Character'] = df_ds9['Character'].replace(to_replace =\"(BASHIR\",  value =\"BASHIR\")\r\n",
        "df_ds9['Character'] = df_ds9['Character'].replace(to_replace =\"QUARK [on viewscreen\",  value =\"QUARK\")\r\n",
        "df_ds9['Character'] = df_ds9['Character'].replace(to_replace =\"DAMAR [on viewscreen\",  value =\"DAMAR\")"
      ],
      "execution_count": 195,
      "outputs": []
    },
    {
      "cell_type": "code",
      "metadata": {
        "id": "rsyN30uPZvvo"
      },
      "source": [
        "df_ds9 = df_ds9.reset_index()"
      ],
      "execution_count": 196,
      "outputs": []
    },
    {
      "cell_type": "code",
      "metadata": {
        "colab": {
          "base_uri": "https://localhost:8080/",
          "height": 424
        },
        "id": "DYN6tFRIxSpP",
        "outputId": "f7f6cf05-6b97-4880-d012-c0737b854437"
      },
      "source": [
        "del df_ds9['index']\r\n",
        "df_ds9"
      ],
      "execution_count": 198,
      "outputs": [
        {
          "output_type": "execute_result",
          "data": {
            "text/html": [
              "<div>\n",
              "<style scoped>\n",
              "    .dataframe tbody tr th:only-of-type {\n",
              "        vertical-align: middle;\n",
              "    }\n",
              "\n",
              "    .dataframe tbody tr th {\n",
              "        vertical-align: top;\n",
              "    }\n",
              "\n",
              "    .dataframe thead th {\n",
              "        text-align: right;\n",
              "    }\n",
              "</style>\n",
              "<table border=\"1\" class=\"dataframe\">\n",
              "  <thead>\n",
              "    <tr style=\"text-align: right;\">\n",
              "      <th></th>\n",
              "      <th>Episode Name</th>\n",
              "      <th>Season</th>\n",
              "      <th>Episode Number</th>\n",
              "      <th>Character</th>\n",
              "      <th>Speech</th>\n",
              "    </tr>\n",
              "  </thead>\n",
              "  <tbody>\n",
              "    <tr>\n",
              "      <th>0</th>\n",
              "      <td>Strange Bedfellows</td>\n",
              "      <td>7</td>\n",
              "      <td>19</td>\n",
              "      <td>WORF</td>\n",
              "      <td>This is intolerable! They have us caged up li...</td>\n",
              "    </tr>\n",
              "    <tr>\n",
              "      <th>1</th>\n",
              "      <td>Strange Bedfellows</td>\n",
              "      <td>7</td>\n",
              "      <td>19</td>\n",
              "      <td>EZRI</td>\n",
              "      <td>Stop it!</td>\n",
              "    </tr>\n",
              "    <tr>\n",
              "      <th>2</th>\n",
              "      <td>Strange Bedfellows</td>\n",
              "      <td>7</td>\n",
              "      <td>19</td>\n",
              "      <td>WEYOUN</td>\n",
              "      <td>We meet at last.</td>\n",
              "    </tr>\n",
              "    <tr>\n",
              "      <th>3</th>\n",
              "      <td>Strange Bedfellows</td>\n",
              "      <td>7</td>\n",
              "      <td>19</td>\n",
              "      <td>BREEN</td>\n",
              "      <td></td>\n",
              "    </tr>\n",
              "    <tr>\n",
              "      <th>4</th>\n",
              "      <td>Strange Bedfellows</td>\n",
              "      <td>7</td>\n",
              "      <td>19</td>\n",
              "      <td>WEYOUN</td>\n",
              "      <td>Gifts? How thoughtful. You should be honoured...</td>\n",
              "    </tr>\n",
              "    <tr>\n",
              "      <th>...</th>\n",
              "      <td>...</td>\n",
              "      <td>...</td>\n",
              "      <td>...</td>\n",
              "      <td>...</td>\n",
              "      <td>...</td>\n",
              "    </tr>\n",
              "    <tr>\n",
              "      <th>67162</th>\n",
              "      <td>Ties of Blood and Water</td>\n",
              "      <td>5</td>\n",
              "      <td>19</td>\n",
              "      <td>DUKAT</td>\n",
              "      <td>Not at all. It takes a great man to admit he'...</td>\n",
              "    </tr>\n",
              "    <tr>\n",
              "      <th>67163</th>\n",
              "      <td>Ties of Blood and Water</td>\n",
              "      <td>5</td>\n",
              "      <td>19</td>\n",
              "      <td>SISKO</td>\n",
              "      <td>That's very moving, except for one small prob...</td>\n",
              "    </tr>\n",
              "    <tr>\n",
              "      <th>67164</th>\n",
              "      <td>Ties of Blood and Water</td>\n",
              "      <td>5</td>\n",
              "      <td>19</td>\n",
              "      <td>WEYOUN</td>\n",
              "      <td>As you said, it's a small problem.</td>\n",
              "    </tr>\n",
              "    <tr>\n",
              "      <th>67165</th>\n",
              "      <td>Ties of Blood and Water</td>\n",
              "      <td>5</td>\n",
              "      <td>19</td>\n",
              "      <td>DUKAT</td>\n",
              "      <td>I would like his body transferred to my ship....</td>\n",
              "    </tr>\n",
              "    <tr>\n",
              "      <th>67166</th>\n",
              "      <td>Ties of Blood and Water</td>\n",
              "      <td>5</td>\n",
              "      <td>19</td>\n",
              "      <td>SISKO</td>\n",
              "      <td>I'm afraid that's going to be impossible. Leg...</td>\n",
              "    </tr>\n",
              "  </tbody>\n",
              "</table>\n",
              "<p>67167 rows × 5 columns</p>\n",
              "</div>"
            ],
            "text/plain": [
              "                  Episode Name  ...                                             Speech\n",
              "0           Strange Bedfellows  ...   This is intolerable! They have us caged up li...\n",
              "1           Strange Bedfellows  ...                                           Stop it!\n",
              "2           Strange Bedfellows  ...                                   We meet at last.\n",
              "3           Strange Bedfellows  ...                                                   \n",
              "4           Strange Bedfellows  ...   Gifts? How thoughtful. You should be honoured...\n",
              "...                        ...  ...                                                ...\n",
              "67162  Ties of Blood and Water  ...   Not at all. It takes a great man to admit he'...\n",
              "67163  Ties of Blood and Water  ...   That's very moving, except for one small prob...\n",
              "67164  Ties of Blood and Water  ...                 As you said, it's a small problem.\n",
              "67165  Ties of Blood and Water  ...   I would like his body transferred to my ship....\n",
              "67166  Ties of Blood and Water  ...   I'm afraid that's going to be impossible. Leg...\n",
              "\n",
              "[67167 rows x 5 columns]"
            ]
          },
          "metadata": {
            "tags": []
          },
          "execution_count": 198
        }
      ]
    },
    {
      "cell_type": "code",
      "metadata": {
        "id": "9dbTzPX_xhib"
      },
      "source": [
        "df_ds9.to_csv(\"/content/drive/MyDrive/DS9.csv\")"
      ],
      "execution_count": 204,
      "outputs": []
    },
    {
      "cell_type": "code",
      "metadata": {
        "colab": {
          "base_uri": "https://localhost:8080/"
        },
        "id": "eAFXwRbOx4qu",
        "outputId": "6e53acaf-03de-417b-da5f-e110d1dd7815"
      },
      "source": [
        "!ls drive/MyDrive"
      ],
      "execution_count": 205,
      "outputs": [
        {
          "output_type": "stream",
          "text": [
            "'Colab Notebooks'     Data\t      DS9.csv\t    TheRealLoc.xlsx\n",
            " CPOINT_FINETUNE-75   data_tutorial   saved_dicts\n"
          ],
          "name": "stdout"
        }
      ]
    }
  ]
}